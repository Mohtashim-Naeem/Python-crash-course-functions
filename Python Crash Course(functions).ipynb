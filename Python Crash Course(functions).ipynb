{
 "cells": [
  {
   "cell_type": "markdown",
   "id": "f463f3da",
   "metadata": {},
   "source": [
    "# Funnctions"
   ]
  },
  {
   "cell_type": "code",
   "execution_count": 1,
   "id": "6e047dde",
   "metadata": {},
   "outputs": [],
   "source": [
    "def greet_user(username):\n",
    " \"\"\"Display a simple greeting.\"\"\"\n",
    " print(\"Hello, \" + username.title() + \"!\")"
   ]
  },
  {
   "cell_type": "code",
   "execution_count": 9,
   "id": "5407dab9",
   "metadata": {},
   "outputs": [
    {
     "name": "stdout",
     "output_type": "stream",
     "text": [
      "Hello, Jese!\n"
     ]
    }
   ],
   "source": [
    "greet_user(\"jese\")"
   ]
  },
  {
   "cell_type": "code",
   "execution_count": 10,
   "id": "52fc3cc3",
   "metadata": {},
   "outputs": [],
   "source": [
    "def Display_message():\n",
    "    print(\" what you are learning about in this chapter.\")"
   ]
  },
  {
   "cell_type": "code",
   "execution_count": 11,
   "id": "7b95b5a4",
   "metadata": {},
   "outputs": [
    {
     "name": "stdout",
     "output_type": "stream",
     "text": [
      " what you are learning about in this chapter.\n"
     ]
    }
   ],
   "source": [
    "Display_message()"
   ]
  },
  {
   "cell_type": "code",
   "execution_count": 17,
   "id": "23a90607",
   "metadata": {},
   "outputs": [],
   "source": [
    "def favourite_book(bookTitle):\n",
    "    print(f\"One of my favorite books is {bookTitle} in Wonderland.\")"
   ]
  },
  {
   "cell_type": "code",
   "execution_count": 18,
   "id": "84232f5b",
   "metadata": {},
   "outputs": [
    {
     "name": "stdout",
     "output_type": "stream",
     "text": [
      "One of my favorite books is Alice in Wonderland.\n"
     ]
    }
   ],
   "source": [
    "favourite_book(\"Alice\")"
   ]
  },
  {
   "cell_type": "code",
   "execution_count": 7,
   "id": "5359b7aa",
   "metadata": {},
   "outputs": [],
   "source": [
    "def describe_pet(animal_type, pet_name):\n",
    " #\"\"\"Display information about a pet.\"\"\"\n",
    " print(\"\\nI have a \" + animal_type + \".\")\n",
    " print(\"My \" + animal_type + \"'s name is \" + pet_name.title() + \".\")"
   ]
  },
  {
   "cell_type": "code",
   "execution_count": 8,
   "id": "2e3a0215",
   "metadata": {},
   "outputs": [
    {
     "name": "stdout",
     "output_type": "stream",
     "text": [
      "\n",
      "I have a Hamster.\n",
      "My Hamster's name is Harry.\n"
     ]
    }
   ],
   "source": [
    "describe_pet(\"Hamster\",\"Harry\")"
   ]
  },
  {
   "cell_type": "code",
   "execution_count": 9,
   "id": "9366abdc",
   "metadata": {},
   "outputs": [
    {
     "name": "stdout",
     "output_type": "stream",
     "text": [
      "\n",
      "I have a dog.\n",
      "My dog's name is Willie.\n"
     ]
    }
   ],
   "source": [
    "describe_pet('dog', 'willie')"
   ]
  },
  {
   "cell_type": "code",
   "execution_count": 10,
   "id": "4e7e04f6",
   "metadata": {},
   "outputs": [
    {
     "name": "stdout",
     "output_type": "stream",
     "text": [
      "\n",
      "I have a hamster.\n",
      "My hamster's name is Harry.\n"
     ]
    }
   ],
   "source": [
    "describe_pet(animal_type='hamster', pet_name='harry')"
   ]
  },
  {
   "cell_type": "code",
   "execution_count": 11,
   "id": "5c861048",
   "metadata": {},
   "outputs": [
    {
     "name": "stdout",
     "output_type": "stream",
     "text": [
      "\n",
      "I have a hamster.\n",
      "My hamster's name is Harry.\n",
      "\n",
      "I have a hamster.\n",
      "My hamster's name is Harry.\n"
     ]
    }
   ],
   "source": [
    "describe_pet(animal_type='hamster', pet_name='harry')\n",
    "describe_pet(pet_name='harry', animal_type='hamster')"
   ]
  },
  {
   "cell_type": "code",
   "execution_count": 12,
   "id": "a4a5bca5",
   "metadata": {},
   "outputs": [
    {
     "name": "stdout",
     "output_type": "stream",
     "text": [
      "\n",
      "I have a hamster.\n",
      "My hamster's name is Harry.\n"
     ]
    }
   ],
   "source": [
    "describe_pet(animal_type='hamster', pet_name='harry')"
   ]
  },
  {
   "cell_type": "code",
   "execution_count": 15,
   "id": "27dcb8ed",
   "metadata": {},
   "outputs": [],
   "source": [
    "def describe_pet(pet_name, animal_type='dog'):\n",
    " \"\"\"Display information about a pet.\"\"\"\n",
    " print(\"\\nI have a \" + animal_type + \".\")\n",
    " print(\"My \" + animal_type + \"'s name is \" + pet_name.title() + \".\")\n"
   ]
  },
  {
   "cell_type": "code",
   "execution_count": 16,
   "id": "214af88c",
   "metadata": {},
   "outputs": [
    {
     "name": "stdout",
     "output_type": "stream",
     "text": [
      "\n",
      "I have a dog.\n",
      "My dog's name is Willie.\n"
     ]
    }
   ],
   "source": [
    "describe_pet(pet_name='willie')"
   ]
  },
  {
   "cell_type": "code",
   "execution_count": 18,
   "id": "2299105e",
   "metadata": {},
   "outputs": [
    {
     "name": "stdout",
     "output_type": "stream",
     "text": [
      "\n",
      "I have a dog.\n",
      "My dog's name is Willie.\n",
      "\n",
      "I have a dog.\n",
      "My dog's name is Willie.\n",
      "\n",
      "I have a hamster.\n",
      "My hamster's name is Harry.\n",
      "\n",
      "I have a hamster.\n",
      "My hamster's name is Harry.\n",
      "\n",
      "I have a hamster.\n",
      "My hamster's name is Harry.\n"
     ]
    }
   ],
   "source": [
    "# A dog named Willie.\n",
    "describe_pet('willie')\n",
    "describe_pet(pet_name='willie')\n",
    "# A hamster named Harry.\n",
    "describe_pet('harry', 'hamster')\n",
    "describe_pet(pet_name='harry', animal_type='hamster')\n",
    "describe_pet(animal_type='hamster', pet_name='harry')"
   ]
  },
  {
   "cell_type": "code",
   "execution_count": 19,
   "id": "3fa96c27",
   "metadata": {},
   "outputs": [
    {
     "ename": "TypeError",
     "evalue": "describe_pet() missing 1 required positional argument: 'pet_name'",
     "output_type": "error",
     "traceback": [
      "\u001b[1;31m---------------------------------------------------------------------------\u001b[0m",
      "\u001b[1;31mTypeError\u001b[0m                                 Traceback (most recent call last)",
      "Input \u001b[1;32mIn [19]\u001b[0m, in \u001b[0;36m<cell line: 2>\u001b[1;34m()\u001b[0m\n\u001b[0;32m      1\u001b[0m \u001b[38;5;66;03m#here’s what happens if we try to call describe_pet() with no arguments:\u001b[39;00m\n\u001b[1;32m----> 2\u001b[0m \u001b[43mdescribe_pet\u001b[49m\u001b[43m(\u001b[49m\u001b[43m)\u001b[49m\n",
      "\u001b[1;31mTypeError\u001b[0m: describe_pet() missing 1 required positional argument: 'pet_name'"
     ]
    }
   ],
   "source": [
    "#here’s what happens if we try to call describe_pet() with no arguments:\n",
    "describe_pet()\n"
   ]
  },
  {
   "cell_type": "code",
   "execution_count": 8,
   "id": "476a568b",
   "metadata": {},
   "outputs": [],
   "source": [
    "#make shirt\n",
    "def makeShirt(size,sentence):\n",
    "    print(f\"The size of the sirt will be {size}\")\n",
    "    print(f\"{sentence}\" + \" , \"  +  \"that will be printed on the shirt\")"
   ]
  },
  {
   "cell_type": "code",
   "execution_count": 9,
   "id": "c1304c6f",
   "metadata": {},
   "outputs": [
    {
     "name": "stdout",
     "output_type": "stream",
     "text": [
      "The size of the sirt will be 12\n",
      "Never give up because big things take time , that will be printed on the shirt\n"
     ]
    }
   ],
   "source": [
    "makeShirt(12,\"Never give up because big things take time\")"
   ]
  },
  {
   "cell_type": "code",
   "execution_count": 10,
   "id": "31705dce",
   "metadata": {},
   "outputs": [
    {
     "name": "stdout",
     "output_type": "stream",
     "text": [
      "The size of the sirt will be 12\n",
      "practice makes perfect  , that will be printed on the shirt\n"
     ]
    }
   ],
   "source": [
    "makeShirt(size=12,sentence=\"practice makes perfect \")"
   ]
  },
  {
   "cell_type": "code",
   "execution_count": 15,
   "id": "13dc351e",
   "metadata": {},
   "outputs": [],
   "source": [
    "# Modifymake shirt\n",
    "def makeShirt(size=\"Large\",sentence=\"I love python\"):\n",
    "    print(f\"The size of the sirt will be {size}\")\n",
    "    print(f\"{sentence}\" + \" , \"  +  \"that will have printed on the shirt\")"
   ]
  },
  {
   "cell_type": "code",
   "execution_count": 16,
   "id": "664dea21",
   "metadata": {},
   "outputs": [
    {
     "name": "stdout",
     "output_type": "stream",
     "text": [
      "The size of the sirt will be Large\n",
      "I love python , that will have printed on the shirt\n"
     ]
    }
   ],
   "source": [
    "makeShirt()"
   ]
  },
  {
   "cell_type": "code",
   "execution_count": 21,
   "id": "d098f952",
   "metadata": {},
   "outputs": [],
   "source": [
    "def  describe_city(City,country=\"Pakistan\"):\n",
    "    print(f\"{City} is in {country}\")"
   ]
  },
  {
   "cell_type": "code",
   "execution_count": 23,
   "id": "cf6002b0",
   "metadata": {},
   "outputs": [
    {
     "name": "stdout",
     "output_type": "stream",
     "text": [
      "Karachi is in Pakistan\n"
     ]
    }
   ],
   "source": [
    "describe_city(\"Karachi\") "
   ]
  },
  {
   "cell_type": "code",
   "execution_count": 24,
   "id": "68d98321",
   "metadata": {},
   "outputs": [
    {
     "name": "stdout",
     "output_type": "stream",
     "text": [
      "Kashmir is in Pakistan\n"
     ]
    }
   ],
   "source": [
    "describe_city(\"Kashmir\")"
   ]
  },
  {
   "cell_type": "code",
   "execution_count": 28,
   "id": "34159c0b",
   "metadata": {},
   "outputs": [
    {
     "name": "stdout",
     "output_type": "stream",
     "text": [
      "lahore is in Punjab\n"
     ]
    }
   ],
   "source": [
    "describe_city(country=\"Punjab\",City=\"lahore\")"
   ]
  },
  {
   "cell_type": "code",
   "execution_count": 4,
   "id": "89e5e634",
   "metadata": {},
   "outputs": [],
   "source": [
    "def get_formatted_name(first_name, last_name, middle_name=''):\n",
    "    if middle_name:\n",
    "        full_name = first_name + ' ' + middle_name + ' ' + last_name\n",
    "    else:\n",
    "        full_name = first_name + ' ' + last_name\n",
    "    return full_name.title()\n"
   ]
  },
  {
   "cell_type": "code",
   "execution_count": 30,
   "id": "4d7eef5a",
   "metadata": {},
   "outputs": [
    {
     "name": "stdout",
     "output_type": "stream",
     "text": [
      "Jimi Hendrix\n",
      "John Lee Hooker\n"
     ]
    }
   ],
   "source": [
    "musician = get_formatted_name('jimi', 'hendrix')\n",
    "print(musician)\n",
    "\n",
    "musician = get_formatted_name('john', 'hooker', 'lee')\n",
    "print(musician)"
   ]
  },
  {
   "cell_type": "code",
   "execution_count": 33,
   "id": "f654f561",
   "metadata": {},
   "outputs": [],
   "source": [
    "def build_person(first_name, last_name):\n",
    "# \"\"\"Return a dictionary of information about a person.\"\"\"\n",
    "    person = {'first': first_name, 'last': last_name}\n",
    "    return person"
   ]
  },
  {
   "cell_type": "code",
   "execution_count": 35,
   "id": "1f9da2f4",
   "metadata": {},
   "outputs": [
    {
     "data": {
      "text/plain": [
       "{'first': 'atif', 'last': 'aslam'}"
      ]
     },
     "execution_count": 35,
     "metadata": {},
     "output_type": "execute_result"
    }
   ],
   "source": [
    "build_person('atif','aslam')"
   ]
  },
  {
   "cell_type": "code",
   "execution_count": 41,
   "id": "406f85d5",
   "metadata": {},
   "outputs": [],
   "source": [
    "def build_person(first_name, last_name,age=''):\n",
    "    person = {'first': first_name, 'last': last_name}\n",
    "    if age:\n",
    "        person['age']=age\n",
    "    return person"
   ]
  },
  {
   "cell_type": "code",
   "execution_count": 46,
   "id": "8727a3a3",
   "metadata": {},
   "outputs": [],
   "source": [
    "musician=build_person('atif','aslam')"
   ]
  },
  {
   "cell_type": "code",
   "execution_count": 47,
   "id": "ae30ca4c",
   "metadata": {},
   "outputs": [
    {
     "name": "stdout",
     "output_type": "stream",
     "text": [
      "{'first': 'atif', 'last': 'aslam'}\n"
     ]
    }
   ],
   "source": [
    "print(musician)"
   ]
  },
  {
   "cell_type": "code",
   "execution_count": 50,
   "id": "d50f0da6",
   "metadata": {},
   "outputs": [],
   "source": [
    "musician=build_person('atif','aslam',24)"
   ]
  },
  {
   "cell_type": "code",
   "execution_count": 51,
   "id": "1434bf44",
   "metadata": {},
   "outputs": [
    {
     "name": "stdout",
     "output_type": "stream",
     "text": [
      "{'first': 'atif', 'last': 'aslam', 'age': 24}\n"
     ]
    }
   ],
   "source": [
    "print(musician)"
   ]
  },
  {
   "cell_type": "code",
   "execution_count": 5,
   "id": "755d6725",
   "metadata": {},
   "outputs": [
    {
     "name": "stdout",
     "output_type": "stream",
     "text": [
      "\n",
      "Please tell me your name:\n",
      "(enter 'q' at any time to quit)\n",
      "First name: asad\n",
      "Last name: naeem\n",
      "\n",
      "Hello, Asad Naeem!\n",
      "\n",
      "Please tell me your name:\n",
      "(enter 'q' at any time to quit)\n",
      "First name: q\n"
     ]
    }
   ],
   "source": [
    "# This is an infinite loop!\n",
    "while True:\n",
    "    print(\"\\nPlease tell me your name:\")\n",
    "    print(\"(enter 'q' at any time to quit)\")\n",
    " \n",
    "    f_name = input(\"First name: \")\n",
    "    if f_name == 'q':\n",
    "        break\n",
    "\n",
    "    l_name = input(\"Last name: \")\n",
    "    if l_name == 'q':\n",
    "        break\n",
    "    \n",
    "    formatted_name = get_formatted_name(f_name, l_name)\n",
    "    print(\"\\nHello, \" + formatted_name + \"!\")   "
   ]
  },
  {
   "cell_type": "code",
   "execution_count": 34,
   "id": "b480c08f",
   "metadata": {},
   "outputs": [],
   "source": [
    "def city_country(city, country):\n",
    "    return city,country"
   ]
  },
  {
   "cell_type": "code",
   "execution_count": 39,
   "id": "f3bc26ca",
   "metadata": {},
   "outputs": [
    {
     "data": {
      "text/plain": [
       "('karachi', 'Pakistan')"
      ]
     },
     "execution_count": 39,
     "metadata": {},
     "output_type": "execute_result"
    }
   ],
   "source": [
    "city_country(\"karachi\",\"Pakistan\")"
   ]
  },
  {
   "cell_type": "code",
   "execution_count": 36,
   "id": "b7ddf1f8",
   "metadata": {},
   "outputs": [
    {
     "data": {
      "text/plain": [
       "('New york', 'America')"
      ]
     },
     "execution_count": 36,
     "metadata": {},
     "output_type": "execute_result"
    }
   ],
   "source": [
    "city_country(\"New york\",\"America\")"
   ]
  },
  {
   "cell_type": "code",
   "execution_count": 37,
   "id": "2465b105",
   "metadata": {},
   "outputs": [
    {
     "data": {
      "text/plain": [
       "('Mecca', 'Saudi Arabia')"
      ]
     },
     "execution_count": 37,
     "metadata": {},
     "output_type": "execute_result"
    }
   ],
   "source": [
    "city_country(\"Mecca\",\"Saudi Arabia\")"
   ]
  },
  {
   "cell_type": "code",
   "execution_count": 43,
   "id": "fdc22fc7",
   "metadata": {},
   "outputs": [],
   "source": [
    "def make_album(artist_name,album_title,num_tracks=''):\n",
    "    music_album  = {}\n",
    "    music_album[\"artist\"]=artist_name\n",
    "    music_album[\"album\"]= album_title\n",
    "    if num_tracks:\n",
    "        music_album['tracks'] = num_tracks\n",
    "    return music_album"
   ]
  },
  {
   "cell_type": "code",
   "execution_count": 44,
   "id": "e1caec78",
   "metadata": {},
   "outputs": [
    {
     "data": {
      "text/plain": [
       "{'artist': 'atif aslam', 'album': 'zindagi'}"
      ]
     },
     "execution_count": 44,
     "metadata": {},
     "output_type": "execute_result"
    }
   ],
   "source": [
    "make_album(\"atif aslam\",\"zindagi\")"
   ]
  },
  {
   "cell_type": "code",
   "execution_count": 46,
   "id": "2f3c7b0d",
   "metadata": {},
   "outputs": [
    {
     "data": {
      "text/plain": [
       "{'artist': 'Mohtashim', 'album': 'python'}"
      ]
     },
     "execution_count": 46,
     "metadata": {},
     "output_type": "execute_result"
    }
   ],
   "source": [
    "make_album(\"Mohtashim\",\"python\")"
   ]
  },
  {
   "cell_type": "code",
   "execution_count": 47,
   "id": "c0d0dfc6",
   "metadata": {},
   "outputs": [
    {
     "data": {
      "text/plain": [
       "{'artist': 'junaid jamshed', 'album': 'Naat', 'tracks': '27'}"
      ]
     },
     "execution_count": 47,
     "metadata": {},
     "output_type": "execute_result"
    }
   ],
   "source": [
    "make_album(\"junaid jamshed\",\"Naat\",\"27\")"
   ]
  },
  {
   "cell_type": "code",
   "execution_count": 48,
   "id": "1bb9c169",
   "metadata": {},
   "outputs": [
    {
     "name": "stdout",
     "output_type": "stream",
     "text": [
      "\n",
      "Please tell me about album :\n",
      "(enter 'q' at any time to quit)\n",
      "artist name: atif aslam\n",
      "album title : zindagi\n",
      "{'artist': 'atif aslam', 'album': 'zindagi'}\n",
      "\n",
      "Please tell me about album :\n",
      "(enter 'q' at any time to quit)\n",
      "artist name: q\n"
     ]
    }
   ],
   "source": [
    "while True:\n",
    "    print(\"\\nPlease tell me about album :\")\n",
    "    print(\"(enter 'q' at any time to quit)\")\n",
    " \n",
    "    artist = input(\"artist name: \")\n",
    "    if artist == 'q':\n",
    "        break\n",
    "\n",
    "    album = input(\"album title : \")\n",
    "    if album == 'q':\n",
    "        break\n",
    "    \n",
    "       "
   ]
  },
  {
   "cell_type": "code",
   "execution_count": 50,
   "id": "1e673b07",
   "metadata": {},
   "outputs": [
    {
     "name": "stdout",
     "output_type": "stream",
     "text": [
      "{'artist': 'q', 'album': 'zindagi'}\n"
     ]
    }
   ],
   "source": [
    "dic = make_album(artist,album)\n",
    "print(dic)"
   ]
  },
  {
   "cell_type": "code",
   "execution_count": 3,
   "id": "bba6b637",
   "metadata": {},
   "outputs": [],
   "source": [
    "def greet_users(names):\n",
    "# \"\"\"Print a simple greeting to each user in the list.\"\"\"\n",
    " for name in names:\n",
    "        msg = \"Hello, \" + name.title() + \"!\"\n",
    "        print(msg)\n"
   ]
  },
  {
   "cell_type": "code",
   "execution_count": 6,
   "id": "9a60a5d0",
   "metadata": {},
   "outputs": [
    {
     "name": "stdout",
     "output_type": "stream",
     "text": [
      "Hello, Mustaqeem!\n",
      "Hello, Mohtashim!\n",
      "Hello, Zonaisha!\n"
     ]
    }
   ],
   "source": [
    "usernames = ['Mustaqeem', 'Mohtashim', 'Zonaisha']\n",
    "greet_users(usernames)"
   ]
  },
  {
   "cell_type": "code",
   "execution_count": 35,
   "id": "bbd19855",
   "metadata": {},
   "outputs": [],
   "source": [
    "# Start with some designs that need to be printed.\n",
    "#unprinted_designs = ['iphone case', 'robot pendant', 'dodecahedron']\n",
    "#completed_models = []\n"
   ]
  },
  {
   "cell_type": "code",
   "execution_count": 24,
   "id": "8a277015",
   "metadata": {},
   "outputs": [],
   "source": [
    "# Simulate printing each design, until none are left.\n",
    "# Move each design to completed_models after printing.\n",
    "while unprinted_designs:\n",
    "    current_design = unprinted_designs.pop()"
   ]
  },
  {
   "cell_type": "code",
   "execution_count": 25,
   "id": "212c41b5",
   "metadata": {},
   "outputs": [
    {
     "name": "stdout",
     "output_type": "stream",
     "text": [
      "Printing model: iphone case\n"
     ]
    }
   ],
   "source": [
    "# Simulate creating a 3D print from the design.\n",
    "print(\"Printing model: \" + current_design)\n",
    "completed_models.append(current_design)"
   ]
  },
  {
   "cell_type": "code",
   "execution_count": 26,
   "id": "467ae28d",
   "metadata": {},
   "outputs": [
    {
     "name": "stdout",
     "output_type": "stream",
     "text": [
      "\n",
      "The following models have been printed:\n",
      "iphone case\n"
     ]
    }
   ],
   "source": [
    "# Display all completed models.\n",
    "print(\"\\nThe following models have been printed:\")\n",
    "for completed_model in completed_models:\n",
    "    print(completed_model)"
   ]
  },
  {
   "cell_type": "code",
   "execution_count": 1,
   "id": "5d0730be",
   "metadata": {},
   "outputs": [],
   "source": [
    "def print_models(unprinted_designs, completed_models):\n",
    "    while unprinted_designs:\n",
    "        current_design = unprinted_designs.pop()\n",
    "        print(\"Printing model: \" + current_design)\n",
    "        completed_models.append(current_design)\n",
    "        "
   ]
  },
  {
   "cell_type": "code",
   "execution_count": 24,
   "id": "2b58cb56",
   "metadata": {},
   "outputs": [
    {
     "name": "stdout",
     "output_type": "stream",
     "text": [
      "Printing model: dodecahedron\n",
      "Printing model: robot pendant\n",
      "Printing model: iphone case\n",
      "\n",
      "The following models have been printed:\n",
      "dodecahedron\n",
      "robot pendant\n",
      "iphone case\n"
     ]
    }
   ],
   "source": [
    "unprinted_designs = ['iphone case', 'robot pendant', 'dodecahedron']\n",
    "completed_models = []\n",
    "\n",
    "while unprinted_designs:\n",
    "    current_design = unprinted_designs.pop()\n",
    "    print(\"Printing model: \" + current_design)\n",
    "    completed_models.append(current_design)\n",
    "print(\"\\nThe following models have been printed:\")\n",
    "\n",
    "for completed_model in completed_models:\n",
    "    print(completed_model)"
   ]
  },
  {
   "cell_type": "code",
   "execution_count": 22,
   "id": "b6f20bc8",
   "metadata": {},
   "outputs": [],
   "source": [
    "def show_completed_models(completed_models):\n",
    "    print(\"\\nThe following models have been printed:\")\n",
    "    for completed_model in completed_models:\n",
    "        print(completed_model)"
   ]
  },
  {
   "cell_type": "code",
   "execution_count": 29,
   "id": "e0065456",
   "metadata": {},
   "outputs": [
    {
     "name": "stdout",
     "output_type": "stream",
     "text": [
      "Printing model: dodecahedron\n",
      "Printing model: robot pendant\n",
      "Printing model: iphone case\n",
      "\n",
      "The following models have been printed:\n",
      "dodecahedron\n",
      "robot pendant\n",
      "iphone case\n"
     ]
    }
   ],
   "source": [
    "unprinted_designs = ['iphone case', 'robot pendant', 'dodecahedron']\n",
    "completed_models = []\n",
    "print_models(unprinted_designs[:],completed_models)\n",
    "show_completed_models(completed_models)"
   ]
  },
  {
   "cell_type": "code",
   "execution_count": 30,
   "id": "fcad02e0",
   "metadata": {},
   "outputs": [
    {
     "name": "stdout",
     "output_type": "stream",
     "text": [
      "['iphone case', 'robot pendant', 'dodecahedron']\n"
     ]
    }
   ],
   "source": [
    "print(unprinted_designs)"
   ]
  },
  {
   "cell_type": "code",
   "execution_count": 10,
   "id": "929b3177",
   "metadata": {},
   "outputs": [],
   "source": [
    "def  show_magicians(magicianNames):\n",
    "    for magician in magicianNames:\n",
    "        print(magician)"
   ]
  },
  {
   "cell_type": "code",
   "execution_count": 19,
   "id": "03141346",
   "metadata": {},
   "outputs": [],
   "source": [
    "def make_great(magicianNames):\n",
    "    for magician in magicianNames:\n",
    "        msg= \"The great \" + magician.title() + \" magician !\"\n",
    "        return msg"
   ]
  },
  {
   "cell_type": "code",
   "execution_count": 20,
   "id": "1c3d3536",
   "metadata": {},
   "outputs": [
    {
     "name": "stdout",
     "output_type": "stream",
     "text": [
      "Mustaqeem\n",
      "Hassan\n",
      "Sir Nasir\n"
     ]
    },
    {
     "data": {
      "text/plain": [
       "'The great Mustaqeem magician !'"
      ]
     },
     "execution_count": 20,
     "metadata": {},
     "output_type": "execute_result"
    }
   ],
   "source": [
    "magicianNames=[\"Mustaqeem\",\"Hassan\",\"Sir Nasir\"]\n",
    "show_magicians(magicianNames)\n",
    "make_great(magicianNames)"
   ]
  },
  {
   "cell_type": "code",
   "execution_count": 21,
   "id": "431233c8",
   "metadata": {},
   "outputs": [],
   "source": [
    "newList =[make_great(magicianNames[:])]"
   ]
  },
  {
   "cell_type": "code",
   "execution_count": 22,
   "id": "c2de1dc0",
   "metadata": {},
   "outputs": [
    {
     "name": "stdout",
     "output_type": "stream",
     "text": [
      "Mustaqeem\n",
      "Hassan\n",
      "Sir Nasir\n"
     ]
    }
   ],
   "source": [
    "show_magicians(magicianNames)"
   ]
  },
  {
   "cell_type": "code",
   "execution_count": 23,
   "id": "d64d0a1b",
   "metadata": {},
   "outputs": [
    {
     "name": "stdout",
     "output_type": "stream",
     "text": [
      "The great Mustaqeem magician !\n"
     ]
    }
   ],
   "source": [
    "show_magicians(newList)"
   ]
  },
  {
   "cell_type": "code",
   "execution_count": 31,
   "id": "82041c22",
   "metadata": {},
   "outputs": [],
   "source": [
    "def sanwich_items(first,**items):\n",
    "    for item in items:\n",
    "        print(\"the sandwitch which is ordered contain following items\")\n",
    "        print(item)"
   ]
  },
  {
   "cell_type": "code",
   "execution_count": 32,
   "id": "307b8b05",
   "metadata": {},
   "outputs": [
    {
     "ename": "TypeError",
     "evalue": "sanwich_items() takes 1 positional argument but 3 were given",
     "output_type": "error",
     "traceback": [
      "\u001b[1;31m---------------------------------------------------------------------------\u001b[0m",
      "\u001b[1;31mTypeError\u001b[0m                                 Traceback (most recent call last)",
      "Input \u001b[1;32mIn [32]\u001b[0m, in \u001b[0;36m<cell line: 1>\u001b[1;34m()\u001b[0m\n\u001b[1;32m----> 1\u001b[0m \u001b[43msanwich_items\u001b[49m\u001b[43m(\u001b[49m\u001b[38;5;124;43m'\u001b[39;49m\u001b[38;5;124;43mketchup\u001b[39;49m\u001b[38;5;124;43m'\u001b[39;49m\u001b[43m,\u001b[49m\u001b[38;5;124;43m'\u001b[39;49m\u001b[38;5;124;43mslice\u001b[39;49m\u001b[38;5;124;43m'\u001b[39;49m\u001b[43m,\u001b[49m\u001b[38;5;124;43m'\u001b[39;49m\u001b[38;5;124;43mbeef\u001b[39;49m\u001b[38;5;124;43m'\u001b[39;49m\u001b[43m)\u001b[49m\n",
      "\u001b[1;31mTypeError\u001b[0m: sanwich_items() takes 1 positional argument but 3 were given"
     ]
    }
   ],
   "source": [
    "sanwich_items('ketchup','slice','beef')"
   ]
  },
  {
   "cell_type": "code",
   "execution_count": 17,
   "id": "fe1573dc",
   "metadata": {},
   "outputs": [],
   "source": [
    "def make_pizza(*toppings):\n",
    "    print(\"\\nMaking a pizza with the following toppings:\")\n",
    "    for topping in toppings:\n",
    "        print(\"- \" + topping)"
   ]
  },
  {
   "cell_type": "code",
   "execution_count": 18,
   "id": "d9dc5318",
   "metadata": {},
   "outputs": [
    {
     "name": "stdout",
     "output_type": "stream",
     "text": [
      "\n",
      "Making a pizza with the following toppings:\n",
      "- cheese\n"
     ]
    }
   ],
   "source": [
    "make_pizza('cheese')"
   ]
  },
  {
   "cell_type": "code",
   "execution_count": 19,
   "id": "73926ae1",
   "metadata": {},
   "outputs": [
    {
     "name": "stdout",
     "output_type": "stream",
     "text": [
      "\n",
      "Making a pizza with the following toppings:\n",
      "- mushroom\n",
      "- peperoni\n",
      "- cheese\n"
     ]
    }
   ],
   "source": [
    "make_pizza('mushroom','peperoni','cheese')"
   ]
  },
  {
   "cell_type": "code",
   "execution_count": 21,
   "id": "e8df3887",
   "metadata": {},
   "outputs": [],
   "source": [
    "def make_pizza(size, *toppings): \n",
    "    print(\"\\nMaking a \" + str(size) + \n",
    "          \"-inch pizza with the following toppings:\") \n",
    "    for topping in toppings: \n",
    "        print(\"- \" + topping) "
   ]
  },
  {
   "cell_type": "code",
   "execution_count": 25,
   "id": "280b8ac6",
   "metadata": {},
   "outputs": [
    {
     "name": "stdout",
     "output_type": "stream",
     "text": [
      "\n",
      "Making a 16-inch pizza with the following toppings:\n",
      "- pepperoni\n",
      "\n",
      "Making a 12-inch pizza with the following toppings:\n",
      "- mushrooms\n",
      "- green peppers\n",
      "- extra cheese\n"
     ]
    }
   ],
   "source": [
    "make_pizza(16, 'pepperoni') \n",
    "make_pizza(12, 'mushrooms', 'green peppers', 'extra cheese')"
   ]
  },
  {
   "cell_type": "code",
   "execution_count": 6,
   "id": "96f251f5",
   "metadata": {},
   "outputs": [],
   "source": [
    "#double ** means keys-values\n",
    "def build_profile(first, last, **user_info):\n",
    "    profile = {}\n",
    "    profile['first_name'] = first\n",
    "    profile['last_name'] = last\n",
    "    for key, value in user_info.items():\n",
    "        profile[key] = value\n",
    "    return profile"
   ]
  },
  {
   "cell_type": "code",
   "execution_count": 7,
   "id": "80661d4f",
   "metadata": {},
   "outputs": [
    {
     "name": "stdout",
     "output_type": "stream",
     "text": [
      "{'first_name': 'albert', 'last_name': 'einstein', 'location': 'princeton', 'field': 'physics'}\n"
     ]
    }
   ],
   "source": [
    "user_profile = build_profile('albert', 'einstein',\n",
    " location='princeton',\n",
    " field='physics')\n",
    "print(user_profile)"
   ]
  },
  {
   "cell_type": "code",
   "execution_count": 31,
   "id": "700309c8",
   "metadata": {},
   "outputs": [],
   "source": [
    "def sandwitch(*items):\n",
    "    print(\"\\nMaking a sandwitch with the following items\")\n",
    "    for item in items:\n",
    "        print('-',item)"
   ]
  },
  {
   "cell_type": "code",
   "execution_count": 32,
   "id": "dd9e8e4b",
   "metadata": {},
   "outputs": [
    {
     "name": "stdout",
     "output_type": "stream",
     "text": [
      "\n",
      "Making a sandwitch with the following items\n",
      "- bread\n",
      "- salad\n",
      "- mayonaise\n",
      "- ketchup\n",
      "- hard-boiled egg\n"
     ]
    }
   ],
   "source": [
    "sandwitch_1 = sandwitch('bread','salad',\"mayonaise\",'ketchup','hard-boiled egg')"
   ]
  },
  {
   "cell_type": "code",
   "execution_count": 17,
   "id": "1c508360",
   "metadata": {},
   "outputs": [],
   "source": [
    "My_profile=build_profile('Mohtashim','Naeem',age='18',gender='male',location='Gazdarabad')"
   ]
  },
  {
   "cell_type": "code",
   "execution_count": 23,
   "id": "b1eaf657",
   "metadata": {},
   "outputs": [
    {
     "name": "stdout",
     "output_type": "stream",
     "text": [
      "{'first_name': 'Mohtashim', 'last_name': 'Naeem', 'age': '18', 'gender': 'male', 'location': 'Gazdarabad'}\n"
     ]
    }
   ],
   "source": [
    "print(My_profile)"
   ]
  },
  {
   "cell_type": "code",
   "execution_count": 33,
   "id": "dea367a8",
   "metadata": {},
   "outputs": [],
   "source": [
    "def make_car(manufacturer,model,**others):\n",
    "    about_car={}\n",
    "    about_car['Manufacturer']=manufacturer\n",
    "    about_car['Model']=model\n",
    "    for key,value in others.items():\n",
    "        about_car[key]=value\n",
    "    return about_car"
   ]
  },
  {
   "cell_type": "code",
   "execution_count": 34,
   "id": "4a4587a0",
   "metadata": {},
   "outputs": [],
   "source": [
    "car = make_car('toyota', 'fortuner', color='silver', tow_package=True,)"
   ]
  },
  {
   "cell_type": "code",
   "execution_count": 35,
   "id": "a046071c",
   "metadata": {},
   "outputs": [
    {
     "data": {
      "text/plain": [
       "{'Manufacturer': 'subaru',\n",
       " 'Model': 'outback',\n",
       " 'color': 'blue',\n",
       " 'tow_package': True}"
      ]
     },
     "execution_count": 35,
     "metadata": {},
     "output_type": "execute_result"
    }
   ],
   "source": [
    "car"
   ]
  },
  {
   "cell_type": "code",
   "execution_count": 3,
   "id": "1364dcd6",
   "metadata": {},
   "outputs": [],
   "source": [
    "import math"
   ]
  },
  {
   "cell_type": "code",
   "execution_count": 5,
   "id": "0ee59011",
   "metadata": {},
   "outputs": [
    {
     "data": {
      "text/plain": [
       "1.0"
      ]
     },
     "execution_count": 5,
     "metadata": {},
     "output_type": "execute_result"
    }
   ],
   "source": [
    "math.cos(0)"
   ]
  },
  {
   "cell_type": "code",
   "execution_count": 6,
   "id": "d7f65501",
   "metadata": {},
   "outputs": [],
   "source": [
    "from math import cos as cs"
   ]
  },
  {
   "cell_type": "code",
   "execution_count": 7,
   "id": "57c8a699",
   "metadata": {},
   "outputs": [
    {
     "data": {
      "text/plain": [
       "1.0"
      ]
     },
     "execution_count": 7,
     "metadata": {},
     "output_type": "execute_result"
    }
   ],
   "source": [
    "cs(0)"
   ]
  },
  {
   "cell_type": "code",
   "execution_count": 4,
   "id": "f84caa5a",
   "metadata": {},
   "outputs": [],
   "source": [
    "import math as mt"
   ]
  },
  {
   "cell_type": "code",
   "execution_count": 8,
   "id": "7d205cc6",
   "metadata": {},
   "outputs": [],
   "source": [
    "from math import *"
   ]
  },
  {
   "cell_type": "code",
   "execution_count": 9,
   "id": "c52f7375",
   "metadata": {},
   "outputs": [
    {
     "data": {
      "text/plain": [
       "1.0"
      ]
     },
     "execution_count": 9,
     "metadata": {},
     "output_type": "execute_result"
    }
   ],
   "source": [
    "cos(0)"
   ]
  },
  {
   "cell_type": "code",
   "execution_count": 10,
   "id": "7064292d",
   "metadata": {},
   "outputs": [
    {
     "data": {
      "text/plain": [
       "12.0"
      ]
     },
     "execution_count": 10,
     "metadata": {},
     "output_type": "execute_result"
    }
   ],
   "source": [
    "sqrt(144)"
   ]
  },
  {
   "cell_type": "code",
   "execution_count": null,
   "id": "a96ee171",
   "metadata": {},
   "outputs": [],
   "source": []
  }
 ],
 "metadata": {
  "kernelspec": {
   "display_name": "Python 3 (ipykernel)",
   "language": "python",
   "name": "python3"
  },
  "language_info": {
   "codemirror_mode": {
    "name": "ipython",
    "version": 3
   },
   "file_extension": ".py",
   "mimetype": "text/x-python",
   "name": "python",
   "nbconvert_exporter": "python",
   "pygments_lexer": "ipython3",
   "version": "3.9.12"
  }
 },
 "nbformat": 4,
 "nbformat_minor": 5
}
